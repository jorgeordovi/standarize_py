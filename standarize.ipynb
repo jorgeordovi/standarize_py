{
 "cells": [
  {
   "cell_type": "code",
   "execution_count": 1,
   "metadata": {},
   "outputs": [],
   "source": [
    "import numpy as np"
   ]
  },
  {
   "cell_type": "markdown",
   "metadata": {},
   "source": [
    "## Standarization"
   ]
  },
  {
   "cell_type": "markdown",
   "metadata": {},
   "source": [
    "\n",
    "$ x_{stadandarized} = \\frac {x - \\mu} {\\sigma} $"
   ]
  },
  {
   "cell_type": "markdown",
   "metadata": {},
   "source": [
    "## Normalizing min-max"
   ]
  },
  {
   "cell_type": "markdown",
   "metadata": {},
   "source": [
    "$ x_{normalized} = \\frac {x - min} { max - min } $"
   ]
  },
  {
   "cell_type": "markdown",
   "metadata": {},
   "source": [
    "$ \\mu ,  \\sigma $ , are the the median and standard deviation "
   ]
  },
  {
   "cell_type": "markdown",
   "metadata": {},
   "source": [
    "\n",
    "#### min - max are the minimun and maximum value"
   ]
  },
  {
   "cell_type": "markdown",
   "metadata": {},
   "source": [
    "#### x is the variable"
   ]
  },
  {
   "cell_type": "code",
   "execution_count": 2,
   "metadata": {},
   "outputs": [],
   "source": [
    "from sklearn.preprocessing import StandardScaler, MinMaxScaler"
   ]
  },
  {
   "cell_type": "code",
   "execution_count": 4,
   "metadata": {},
   "outputs": [],
   "source": [
    "data = np.array([[1,2,3,4,5],[5,6,7,8,9],[10,11,12,13,14],[15,16,17,18,19],[20,21,22,23,24]])"
   ]
  },
  {
   "cell_type": "code",
   "execution_count": 5,
   "metadata": {},
   "outputs": [],
   "source": [
    "scaler = StandardScaler()"
   ]
  },
  {
   "cell_type": "code",
   "execution_count": 6,
   "metadata": {},
   "outputs": [
    {
     "name": "stdout",
     "output_type": "stream",
     "text": [
      "Scaled Data\n",
      "[[-1.35411306 -1.35411306 -1.35411306 -1.35411306 -1.35411306]\n",
      " [-0.76536825 -0.76536825 -0.76536825 -0.76536825 -0.76536825]\n",
      " [-0.02943724 -0.02943724 -0.02943724 -0.02943724 -0.02943724]\n",
      " [ 0.70649377  0.70649377  0.70649377  0.70649377  0.70649377]\n",
      " [ 1.44242478  1.44242478  1.44242478  1.44242478  1.44242478]]\n"
     ]
    }
   ],
   "source": [
    "scaled_data = scaler.fit_transform(data)\n",
    "\n",
    "print(\"Scaled Data\")\n",
    "print(scaled_data)"
   ]
  },
  {
   "cell_type": "code",
   "execution_count": 7,
   "metadata": {},
   "outputs": [
    {
     "name": "stdout",
     "output_type": "stream",
     "text": [
      "Datos Normalizados:\n",
      "[[0.         0.         0.         0.         0.        ]\n",
      " [0.21052632 0.21052632 0.21052632 0.21052632 0.21052632]\n",
      " [0.47368421 0.47368421 0.47368421 0.47368421 0.47368421]\n",
      " [0.73684211 0.73684211 0.73684211 0.73684211 0.73684211]\n",
      " [1.         1.         1.         1.         1.        ]]\n"
     ]
    }
   ],
   "source": [
    "min_max_scaler = MinMaxScaler()\n",
    "\n",
    "normalized_data = min_max_scaler.fit_transform(data)\n",
    "print(\"Datos Normalizados:\")\n",
    "print(normalized_data)"
   ]
  },
  {
   "cell_type": "markdown",
   "metadata": {},
   "source": [
    "## Standard Scaler"
   ]
  },
  {
   "cell_type": "markdown",
   "metadata": {},
   "source": [
    "$ \\mu = \\frac{1}{N} \\sum\\limits_{i=1}^{N} (x_i)$"
   ]
  },
  {
   "cell_type": "markdown",
   "metadata": {},
   "source": [
    "$ \\sigma = \\sqrt{\\frac{1}{N} \\sum\\limits_{i=1}^{N}(x_i - \\mu)^2}$"
   ]
  },
  {
   "cell_type": "markdown",
   "metadata": {},
   "source": [
    "Confidence interval for $ {\\beta}1 $"
   ]
  },
  {
   "cell_type": "markdown",
   "metadata": {},
   "source": [
    "IC = $ [ \\hat{\\beta}_1 - 2.SE(\\hat{\\beta}_1),\\hat{\\beta}_1 + 2.SE(\\hat{\\beta}) ]$"
   ]
  },
  {
   "cell_type": "markdown",
   "metadata": {},
   "source": [
    "Y = $ {\\beta}_0 + {\\beta}_1 . X + \\epsilon $"
   ]
  },
  {
   "cell_type": "markdown",
   "metadata": {},
   "source": [
    "## Medidas Calculadas "
   ]
  },
  {
   "cell_type": "markdown",
   "metadata": {},
   "source": [
    "- Dimension Calendario \n",
    "- Equivalencia de dias\n",
    "- Estacion_ Lineas \n",
    "- Estaciones Subte \n",
    "- Hora Molinetes \n",
    "- Linea molinetes\n",
    "- Metricas\n",
    "    bonificados 2022 - 2023\n",
    "    Pagos 2022 - 2023\n",
    "    Prom U - 2021 - 2023\n",
    "    Q estaciones\n",
    "    Q lineas\n",
    "    U Hora Pico \n",
    "    usuario total\n",
    "- Molinetes \n",
    "    Bonificados\n",
    "    Estacion \n",
    "    Desde\n",
    "    Hasta\n",
    "    pax_franquicias\n",
    "    pax_pasasjes:pagos\n",
    "    pax_Total\n",
    "    \n"
   ]
  },
  {
   "cell_type": "markdown",
   "metadata": {},
   "source": [
    "### Dimension Calendario\n"
   ]
  },
  {
   "cell_type": "markdown",
   "metadata": {},
   "source": [
    "- Año \n",
    "    Año jerarquia\n",
    "    Date\n",
    "    Dia\n",
    "    Mes\n",
    "    Month\n",
    "    Tipo dia\n",
    "    Weekday\n",
    "    "
   ]
  },
  {
   "cell_type": "markdown",
   "metadata": {},
   "source": []
  }
 ],
 "metadata": {
  "kernelspec": {
   "display_name": "Python 3 (ipykernel)",
   "language": "python",
   "name": "python3"
  }
 },
 "nbformat": 4,
 "nbformat_minor": 2
}
